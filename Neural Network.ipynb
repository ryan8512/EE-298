{
 "cells": [
  {
   "cell_type": "code",
   "execution_count": 1,
   "metadata": {},
   "outputs": [],
   "source": [
    "import numpy as np\n",
    "\n",
    "nn_architecture = [\n",
    "    {\"input_dim\": 2, \"output_dim\": 4, \"activation\": \"relu\"},\n",
    "    {\"input_dim\": 4, \"output_dim\": 6, \"activation\": \"relu\"},\n",
    "    {\"input_dim\": 6, \"output_dim\": 6, \"activation\": \"relu\"},\n",
    "    {\"input_dim\": 6, \"output_dim\": 4, \"activation\": \"relu\"},\n",
    "    {\"input_dim\": 4, \"output_dim\": 1, \"activation\": \"sigmoid\"},\n",
    "]\n",
    "\n",
    "def init_layers(nn_architecture, seed = 99):\n",
    "    np.random.seed(seed)\n",
    "    number_of_layers = len(nn_architecture)\n",
    "    params_values = {}\n",
    "\n",
    "    for idx, layer in enumerate(nn_architecture):\n",
    "        layer_idx = idx + 1\n",
    "        layer_input_size = layer[\"input_dim\"]\n",
    "        layer_output_size = layer[\"output_dim\"]\n",
    "        \n",
    "        params_values['W' + str(layer_idx)] = np.random.randn(\n",
    "            layer_output_size, layer_input_size) \n",
    "        params_values['b' + str(layer_idx)] = np.random.randn(\n",
    "            layer_output_size, 1) \n",
    "        \n",
    "    return params_values\n",
    "\n",
    "def sigmoid(Z):\n",
    "    return 1/(1+np.exp(-Z))\n",
    "\n",
    "def relu(Z):\n",
    "    return np.maximum(0,Z)\n",
    "\n",
    "def sigmoid_backward(dA, Z):\n",
    "    sig = sigmoid(Z)\n",
    "    return dA * sig * (1 - sig)\n",
    "\n",
    "def relu_backward(dA, Z):\n",
    "    dZ = np.array(dA, copy = True)\n",
    "    dZ[Z <= 0] = 0;\n",
    "    return dZ;"
   ]
  },
  {
   "cell_type": "markdown",
   "metadata": {},
   "source": [
    "<h1> Full Forward Propagation "
   ]
  },
  {
   "cell_type": "code",
   "execution_count": 2,
   "metadata": {},
   "outputs": [],
   "source": [
    "def single_layer_forward_propagation(A_prev, W_curr, b_curr, activation=\"relu\"):\n",
    "    Z_curr = np.dot(W_curr, A_prev) + b_curr\n",
    "    \n",
    "    if activation == \"relu\":\n",
    "        activation_func = relu\n",
    "    elif activation == \"sigmoid\":\n",
    "        activation_func = sigmoid\n",
    "    else:\n",
    "        raise Exception('Non-supported activation function')\n",
    "        \n",
    "    return activation_func(Z_curr), Z_curr\n",
    "\n",
    "def full_forward_propagation(X, params_values, nn_architecture):\n",
    "    memory = {}\n",
    "    A_curr = X\n",
    "    \n",
    "    for idx, layer in enumerate(nn_architecture):\n",
    "        layer_idx = idx + 1\n",
    "        A_prev = A_curr\n",
    "        \n",
    "        activ_function_curr = layer[\"activation\"]\n",
    "        W_curr = params_values[\"W\" + str(layer_idx)]\n",
    "        \n",
    "        b_curr = params_values[\"b\" + str(layer_idx)]\n",
    "        A_curr, Z_curr = single_layer_forward_propagation(A_prev, W_curr, b_curr, activ_function_curr)\n",
    "        \n",
    "        memory[\"A\" + str(idx)] = A_prev\n",
    "        memory[\"Z\" + str(layer_idx)] = Z_curr\n",
    "       \n",
    "    return A_curr, memory"
   ]
  },
  {
   "cell_type": "markdown",
   "metadata": {},
   "source": [
    "<h1> Loss Function"
   ]
  },
  {
   "cell_type": "code",
   "execution_count": 3,
   "metadata": {},
   "outputs": [],
   "source": [
    "def get_cost_value(predictions,targets):\n",
    "    # Retrieving number of samples in dataset\n",
    "    samples_num = len(predictions)\n",
    "    \n",
    "    # Summing square differences between predicted and expected values\n",
    "    accumulated_error = 0.0\n",
    "    for prediction, target in zip(predictions, targets):\n",
    "        accumulated_error += (prediction - target)**2\n",
    "        \n",
    "    # Calculating mean and dividing by 2\n",
    "    mae_error = (1.0 / (2*samples_num)) * accumulated_error\n",
    "    \n",
    "    return mae_error\n",
    "\n",
    "def get_accuracy_value(Y_hat, Y):\n",
    "    return 100 - np.mean(np.abs(Y_hat - Y)) * 100"
   ]
  },
  {
   "cell_type": "markdown",
   "metadata": {},
   "source": [
    "<h1> Backward Propagation"
   ]
  },
  {
   "cell_type": "code",
   "execution_count": 4,
   "metadata": {},
   "outputs": [],
   "source": [
    "def single_layer_backward_propagation(dA_curr, W_curr, b_curr, Z_curr, A_prev, activation=\"relu\"):\n",
    "    m = A_prev.shape[1]\n",
    "    \n",
    "    if activation == \"relu\":\n",
    "        backward_activation_func = relu_backward\n",
    "    elif activation == \"sigmoid\":\n",
    "        backward_activation_func = sigmoid_backward\n",
    "    else:\n",
    "        raise Exception('Non-supported activation function')\n",
    "    \n",
    "    dZ_curr = backward_activation_func(dA_curr, Z_curr)\n",
    "    dW_curr = np.dot(dZ_curr, A_prev.T) / m\n",
    "    db_curr = np.sum(dZ_curr, axis=1, keepdims=True) / m\n",
    "    dA_prev = np.dot(W_curr.T, dZ_curr)\n",
    "\n",
    "    return dA_prev, dW_curr, db_curr\n",
    "\n",
    "def full_backward_propagation(Y_hat, Y, memory, params_values, nn_architecture):\n",
    "    grads_values = {}\n",
    "    m = Y.shape[1]\n",
    "    Y = Y.reshape(Y_hat.shape)\n",
    "   \n",
    "    dA_prev = - (np.divide(Y, Y_hat) - np.divide(1 - Y, 1 - Y_hat));\n",
    "    \n",
    "    for layer_idx_prev, layer in reversed(list(enumerate(nn_architecture))):\n",
    "        layer_idx_curr = layer_idx_prev + 1\n",
    "        activ_function_curr = layer[\"activation\"]\n",
    "        \n",
    "        dA_curr = dA_prev\n",
    "        \n",
    "        A_prev = memory[\"A\" + str(layer_idx_prev)]\n",
    "        Z_curr = memory[\"Z\" + str(layer_idx_curr)]\n",
    "        W_curr = params_values[\"W\" + str(layer_idx_curr)]\n",
    "        b_curr = params_values[\"b\" + str(layer_idx_curr)]\n",
    "        \n",
    "        dA_prev, dW_curr, db_curr = single_layer_backward_propagation(\n",
    "            dA_curr, W_curr, b_curr, Z_curr, A_prev, activ_function_curr)\n",
    "        \n",
    "        grads_values[\"dW\" + str(layer_idx_curr)] = dW_curr\n",
    "        grads_values[\"db\" + str(layer_idx_curr)] = db_curr\n",
    "    \n",
    "    return grads_values"
   ]
  },
  {
   "cell_type": "markdown",
   "metadata": {},
   "source": [
    "<h1> Updating"
   ]
  },
  {
   "cell_type": "code",
   "execution_count": 5,
   "metadata": {},
   "outputs": [],
   "source": [
    "def update(params_values, grads_values, nn_architecture, learning_rate):\n",
    "    for layer_idx, layer in enumerate(nn_architecture):\n",
    "        params_values[\"W\" + str(layer_idx+1)] -= learning_rate * grads_values[\"dW\" + str(layer_idx+1)]        \n",
    "        params_values[\"b\" + str(layer_idx+1)] -= learning_rate * grads_values[\"db\" + str(layer_idx+1)]\n",
    "\n",
    "    return params_values;"
   ]
  },
  {
   "cell_type": "markdown",
   "metadata": {},
   "source": [
    "<h1> Training the Network"
   ]
  },
  {
   "cell_type": "code",
   "execution_count": 6,
   "metadata": {},
   "outputs": [],
   "source": [
    "def train(X, Y, nn_architecture, epochs, learning_rate):\n",
    "    params_values = init_layers(nn_architecture, 2)\n",
    "    cost_history = []\n",
    "    accuracy_history = []\n",
    "    \n",
    "    for i in range(epochs):\n",
    "        Y_hat, cashe = full_forward_propagation(X, params_values, nn_architecture)\n",
    "        cost = get_cost_value(Y_hat, Y)\n",
    "        cost_history.append(cost)\n",
    "        accuracy = get_accuracy_value(Y_hat, Y)\n",
    "        accuracy_history.append(accuracy)\n",
    "        \n",
    "        grads_values = full_backward_propagation(Y_hat, Y, cashe, params_values, nn_architecture)\n",
    "        params_values = update(params_values, grads_values, nn_architecture, learning_rate)\n",
    "        \n",
    "    return params_values, cost_history, accuracy_history"
   ]
  },
  {
   "cell_type": "code",
   "execution_count": 7,
   "metadata": {},
   "outputs": [],
   "source": [
    "def real_function(xy_input):\n",
    "    output = []\n",
    "    for i in range(xy_input.shape[1]):\n",
    "        output.append(sigmoid(xy_input[0,i]*xy_input[0,i] + xy_input[1,i]*xy_input[1,i]))\n",
    "    \n",
    "    return np.array(output)[np.newaxis,:]\n",
    "\n",
    "def input_generator(samples):\n",
    "    x = np.random.rand(samples)\n",
    "    y = np.random.rand(samples)\n",
    "    return np.vstack((x,y))\n"
   ]
  },
  {
   "cell_type": "code",
   "execution_count": 14,
   "metadata": {},
   "outputs": [
    {
     "data": {
      "text/plain": [
       "({'W1': array([[-0.41675785, -0.05626683],\n",
       "         [-2.1361961 ,  1.64027081],\n",
       "         [-1.79343559, -0.84174737],\n",
       "         [ 0.50160052, -1.24746818]]),\n",
       "  'b1': array([[-1.05795222],\n",
       "         [-0.90900761],\n",
       "         [ 0.55145404],\n",
       "         [ 2.28964622]]),\n",
       "  'W2': array([[ 0.04153939, -1.11792545,  0.53905832, -0.5961597 ],\n",
       "         [-0.0191305 ,  1.17500122, -0.74787095,  0.00902525],\n",
       "         [-0.87810789, -0.15643417,  0.25657045, -0.98877905],\n",
       "         [-0.33882197, -0.23618403, -0.63765501, -1.18761229],\n",
       "         [-1.42121723, -0.1534952 , -0.26905696,  2.22969342],\n",
       "         [-2.43476758,  0.1127265 ,  0.37044454,  1.35968973]]),\n",
       "  'b2': array([[ 0.49710862],\n",
       "         [-0.8442137 ],\n",
       "         [-0.01410634],\n",
       "         [ 0.55552995],\n",
       "         [-0.31464717],\n",
       "         [ 0.770421  ]]),\n",
       "  'W3': array([[-1.86809065,  1.73118467,  1.46767801, -0.33567734,  0.61354051,\n",
       "           0.04940848],\n",
       "         [-0.82913529,  0.08771022,  1.00036589, -0.38109252, -0.37566942,\n",
       "          -0.07447076],\n",
       "         [ 0.43349633,  1.27837923, -0.63467931,  0.50839624,  0.21611601,\n",
       "          -1.85861239],\n",
       "         [-0.41931648, -0.1323289 , -0.03957024,  0.32600343, -2.04032305,\n",
       "           0.04625552],\n",
       "         [-0.67606224, -1.43943903,  0.52429584,  0.73237099, -0.64702773,\n",
       "           0.84413729],\n",
       "         [-0.37531586,  0.06648901, -1.0987391 ,  1.58836685, -2.65944946,\n",
       "          -0.08485351]]),\n",
       "  'b3': array([[ 0.69585196],\n",
       "         [-2.03346655],\n",
       "         [-0.18946926],\n",
       "         [-0.07721867],\n",
       "         [ 0.82579378],\n",
       "         [ 1.2581684 ]]),\n",
       "  'W4': array([[-0.40389227, -1.38451867,  1.36723542,  1.21788563, -0.46200535,\n",
       "           0.35088849],\n",
       "         [ 0.38186623,  0.56627544,  0.20420798,  1.40669624, -1.7379595 ,\n",
       "           1.04082395],\n",
       "         [ 0.3861394 , -0.21713527,  1.1735315 , -2.34360319,  1.23381091,\n",
       "           0.49468683],\n",
       "         [-1.13313327,  0.43309255, -0.30408644,  2.58529487,  1.7802322 ,\n",
       "           0.3664387 ]]),\n",
       "  'b4': array([[-0.71925384],\n",
       "         [-0.58341459],\n",
       "         [-0.25606828],\n",
       "         [-0.60421374]]),\n",
       "  'W5': array([[-0.90224607, -0.59097228,  0.60753747,  0.32994806]]),\n",
       "  'b5': array([[-0.15997043]])},\n",
       " [array([0.12910682, 0.44837558]),\n",
       "  array([0.08735564, 0.3571538 ]),\n",
       "  array([0.06774223, 0.28487614]),\n",
       "  array([0.05516465, 0.23419613]),\n",
       "  array([0.0450722 , 0.19605461]),\n",
       "  array([0.03590244, 0.1644975 ]),\n",
       "  array([0.02721338, 0.13645555]),\n",
       "  array([0.01914044, 0.11070396]),\n",
       "  array([0.01213017, 0.08721442]),\n",
       "  array([0.00666613, 0.06660545]),\n",
       "  array([0.00298679, 0.04954594]),\n",
       "  array([0.00094836, 0.03627593]),\n",
       "  array([0.00012272, 0.0264807 ]),\n",
       "  array([1.83643459e-05, 1.94947264e-02]),\n",
       "  array([0.00024539, 0.01458579]),\n",
       "  array([0.00056223, 0.01113194]),\n",
       "  array([0.00084811, 0.00867203]),\n",
       "  array([0.00105776, 0.00688766]),\n",
       "  array([0.00118521, 0.00556612]),\n",
       "  array([0.0012415 , 0.00456663])],\n",
       " [27.244164030718892,\n",
       "  36.842401050103355,\n",
       "  43.854924762989114,\n",
       "  49.17247864811027,\n",
       "  53.6786583109853,\n",
       "  57.922740259628036,\n",
       "  62.21478022880973,\n",
       "  66.69024797304331,\n",
       "  71.32979502953415,\n",
       "  75.97769635112874,\n",
       "  80.3961206844748,\n",
       "  84.35471221700945,\n",
       "  87.7099943589548,\n",
       "  89.82410545714633,\n",
       "  90.35247459702649,\n",
       "  90.86281212294065,\n",
       "  91.35589818194427,\n",
       "  91.83184738714125,\n",
       "  92.29018458623418,\n",
       "  92.7301079097725])"
      ]
     },
     "execution_count": 14,
     "metadata": {},
     "output_type": "execute_result"
    }
   ],
   "source": [
    "x = input_generator(3)\n",
    "x = np.array([[0.5,1010],[0.851,506]])\n",
    "y = real_function(x)\n",
    "train(x,y,nn_architecture,20,0.1)"
   ]
  },
  {
   "cell_type": "code",
   "execution_count": 15,
   "metadata": {},
   "outputs": [
    {
     "name": "stdout",
     "output_type": "stream",
     "text": [
      "[[0.72595605 1.        ]]\n"
     ]
    }
   ],
   "source": [
    "print(y)"
   ]
  },
  {
   "cell_type": "code",
   "execution_count": 16,
   "metadata": {},
   "outputs": [
    {
     "data": {
      "text/plain": [
       "array([[0.72595605, 1.        ]])"
      ]
     },
     "execution_count": 16,
     "metadata": {},
     "output_type": "execute_result"
    }
   ],
   "source": [
    "real_function(np.array([[0.5,52],[0.851,102]]))"
   ]
  },
  {
   "cell_type": "code",
   "execution_count": null,
   "metadata": {},
   "outputs": [],
   "source": []
  }
 ],
 "metadata": {
  "kernelspec": {
   "display_name": "Python 3",
   "language": "python",
   "name": "python3"
  },
  "language_info": {
   "codemirror_mode": {
    "name": "ipython",
    "version": 3
   },
   "file_extension": ".py",
   "mimetype": "text/x-python",
   "name": "python",
   "nbconvert_exporter": "python",
   "pygments_lexer": "ipython3",
   "version": "3.6.9"
  }
 },
 "nbformat": 4,
 "nbformat_minor": 4
}
