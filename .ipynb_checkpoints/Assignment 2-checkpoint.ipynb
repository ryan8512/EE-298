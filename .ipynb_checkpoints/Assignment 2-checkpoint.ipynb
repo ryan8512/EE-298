{
 "cells": [
  {
   "cell_type": "markdown",
   "metadata": {},
   "source": [
    "# 1. Parameters, Imports, and Inputs\n",
    "\n",
    "#### Declare Important Libraries, Parameters for Dataset, and Inputs of the user\n",
    "\n",
    "#### For this case, let's try a mean of 5 and a standard deviation of 1. Take note that a mean of 0 and standard deviation of 1 would converge faster since the initial values are set to have a mean of 0 and standard deviation of 0.01"
   ]
  },
  {
   "cell_type": "code",
   "execution_count": 1,
   "metadata": {},
   "outputs": [],
   "source": [
    "import numpy as np\n",
    "import matplotlib.pyplot as plt\n",
    "\n",
    "histogram_bins = 1000\n",
    "samples = 1000000                        #Samples to approximate ground truth (histogramming)\n",
    "dataset_samples = 1000000                #Samples to test the network"
   ]
  },
  {
   "cell_type": "code",
   "execution_count": 2,
   "metadata": {},
   "outputs": [
    {
     "name": "stdout",
     "output_type": "stream",
     "text": [
      "Please input the mean of the gaussian curve:5\n",
      "Please input the stardard deviation of the gaussian curve:1\n"
     ]
    }
   ],
   "source": [
    "mean = int(input(\"Please input the mean of the gaussian curve:\"))\n",
    "std_dev = int(input(\"Please input the stardard deviation of the gaussian curve:\"))"
   ]
  },
  {
   "cell_type": "markdown",
   "metadata": {},
   "source": [
    "# 2. Dataset and Histogramming\n",
    "<ol>\n",
    "    <li> Draw 1,000,00 samples and store it in raw_dataset variable \n",
    "    <li> Use histogram method to declare the bins and the number of count (use density)\n",
    "    <li> Use digitize method for the ground truth to know the index\n",
    "    <li> Use the first \"dataset_samples\" variable samples as the training and testing dataset\n",
    "    <li> Plot for sanity check (10 bins vs 1000 bins)\n",
    "</ol>\n",
    "\n",
    "##### Take note that the actual samples used can be less than a million for testing. The one million samples is interpreted to be the used only for histogramming and ground truth. Plus a million samples with 20 epochs is relatively an overkill and would consume more RAM. Though I did a variable called \"dataset_samples\" to adjust that. >>A million samples is actually possible as shown in this experiment.<< Also, it takes around 2-3 minutes per epoch to finish so it's really time consuming to make \"data_samples\" varaible 1 million. The total run time would be around 30 minutes. One can make \"dataset_samples\" to be around 10,000 samples and it would still work, though there's a probability it would not converge.\n",
    "\n",
    "#### As seen from the graphs below, the mean is centered to be at 5 with standard deviation of 1. The 20 bins is shown as a \"sanity\" check if the binning is done correctly hence the loop. The actual testing is done using 1000 bins as shown in the next graph."
   ]
  },
  {
   "cell_type": "code",
   "execution_count": 3,
   "metadata": {},
   "outputs": [
    {
     "name": "stdout",
     "output_type": "stream",
     "text": [
      "Test Dataset Size: (900000,)\n",
      "Test Dataset Size: (100000,)\n"
     ]
    },
    {
     "data": {
      "image/png": "[encoded data removed]",
      "text/plain": [
       "<Figure size 432x288 with 1 Axes>"
      ]
     },
     "metadata": {
      "needs_background": "light"
     },
     "output_type": "display_data"
    },
    {
     "name": "stdout",
     "output_type": "stream",
     "text": [
      "Test Dataset Size: (900000,)\n",
      "Test Dataset Size: (100000,)\n"
     ]
    },
    {
     "data": {
      "image/png": "[encoded data removed]",
      "text/plain": [
       "<Figure size 432x288 with 1 Axes>"
      ]
     },
     "metadata": {
      "needs_background": "light"
     },
     "output_type": "display_data"
    }
   ],
   "source": [
    "for i in [20,histogram_bins]:\n",
    "    raw_dataset = np.random.normal(mean, std_dev,samples)\n",
    "    count, bins = np.histogram(raw_dataset,bins=i,density=True)       #Takes the PDF (not PMF)\n",
    "    index = np.digitize(raw_dataset,bins,right=True) - 1              #Gives the correct location of the sample - index\n",
    "    ground_truth = count[index]                                       #Ground truth from 1 million samples and 1000 bins\n",
    " \n",
    "    ''' Only take the first 1000 samples. Assume that np.random.normal satisfy this'''\n",
    "    train_dataset = raw_dataset[:int(0.9*dataset_samples)]\n",
    "    test_dataset = raw_dataset[int(0.9*dataset_samples):dataset_samples]\n",
    "    train_truth = ground_truth[:int(0.9*dataset_samples)]\n",
    "    test_truth = ground_truth[int(0.9*dataset_samples):dataset_samples]\n",
    "    \n",
    "    ''' Sanity Check'''\n",
    "    print(\"Test Dataset Size: \"+str(train_dataset.shape))\n",
    "    print(\"Test Dataset Size: \"+str(test_dataset.shape))\n",
    "    plt.figure()\n",
    "    plt.plot(train_dataset,train_truth,'b.',label=\"Training\")\n",
    "    plt.plot(test_dataset,test_truth,'r.',label=\"Testing\")\n",
    "    plt.title(\"Dataset:\"+str(i)+' bins')\n",
    "    plt.legend()\n",
    "    plt.show()\n"
   ]
  },
  {
   "cell_type": "markdown",
   "metadata": {},
   "source": [
    "<h1> 3. Build a 3 layer neural network </h1>\n",
    "<ol>\n",
    "    <li> Make a dictionary containing the network's architecture (Did not use sigmoid - optional)\n",
    "    <li> Make an initializer function with mean as 0 and standard deviation of 0.01 as the initial weights\n",
    "    <li> Make the Feed Forward and the Backpropagation Activation Function\n",
    "        <ul>\n",
    "            <li> The linear activation function is simply for uniformity but it does a very simple job\n",
    "        </ul>\n",
    "    <li> Make the Feed Forward Propagation\n",
    "        <ul>\n",
    "            <li> Do note that np.dot acts like a matrix multiplication for 2D numpy array\n",
    "            <li> The memory/cache is for backpropagation later since we need those values\n",
    "        </ul>\n",
    "    <li> Make the Back Propagation\n",
    "        <ul> \n",
    "            <li> Use MSE's derivative as the initial derivative\n",
    "            <li> Take note that for SGD, the variable m would always be equal to 1 since there is only 1 sample of X per updates. The value m is stated there for mini-batch gradient descent or batch gradient descent, though it is not used in this experiment. For mini-batch gradient descent or batch gradient descent, we divide by m to average out all the \"samples\" that affect the loss or cost function.\n",
    "        </ul>\n",
    "    <li> Make an \"updater\" to update the weights given the gradient values\n",
    "    <li> Make a train function\n",
    "        <ul>\n",
    "            <li> Do take note that it would take a form of nested loop since we are doing SGD (batch size = 1). When the user want to do batch gradient descent, it would only take the form of a single loop with a larger input size.\n",
    "        </ul>\n",
    "    <li> Make a test fucntion\n",
    "</ol>\n",
    "        \n",
    "Strong inspiration and source (with some minor edits and self-understanding): \n",
    "<ol>\n",
    "    <li> <a href=\"https://towardsdatascience.com/lets-code-a-neural-network-in-plain-numpy-ae7e74410795\">Neural Network Reference </a>\n",
    "    <li> <a href=\"https://www.youtube.com/watch?v=tIeHLnjs5U8&t=545s\"> Back Propagation Calculus </a>\n",
    "</ol>"
   ]
  },
  {
   "cell_type": "code",
   "execution_count": 4,
   "metadata": {},
   "outputs": [],
   "source": [
    "nn_architecture = [\n",
    "    {\"input_dim\": 1, \"output_dim\": 64, \"activation\": \"relu\"},\n",
    "    {\"input_dim\": 64, \"output_dim\": 64, \"activation\": \"relu\"},\n",
    "    {\"input_dim\": 64, \"output_dim\": 64, \"activation\": \"linear\"},\n",
    "    {\"input_dim\": 64, \"output_dim\": 1, \"activation\": \"linear\"},\n",
    "]\n",
    "\n",
    "def init_layers(nn_architecture, seed = 99):\n",
    "    #np.random.seed(seed)\n",
    "    number_of_layers = len(nn_architecture)   \n",
    "    params= {}                                 #Declare a weight and parameter dictionary\n",
    "\n",
    "    for idx, layer in enumerate(nn_architecture):\n",
    "        layer_idx = idx + 1\n",
    "        layer_input_size = layer[\"input_dim\"]\n",
    "        layer_output_size = layer[\"output_dim\"]\n",
    "        \n",
    "        params['W' + str(layer_idx)] = np.random.normal(0,0.01,(layer_output_size, layer_input_size))\n",
    "        params['b' + str(layer_idx)] = np.random.normal(0,0.01,(layer_output_size, 1))\n",
    "        \n",
    "    return params\n",
    "\n",
    "\n",
    "''' Activation Function: Sigmoid not included since optional'''\n",
    "def relu(Z):\n",
    "    return np.maximum(0,Z)\n",
    "    \n",
    "def relu_backward(dA, Z):\n",
    "    dZ = np.array(dA)\n",
    "    dZ[Z <= 0] = 0;\n",
    "    return dZ;\n",
    "\n",
    "def linear(Z):\n",
    "    return Z\n",
    "\n",
    "def linear_backward(dA,Z):\n",
    "    dZ = np.array(dA)\n",
    "    return dZ;\n",
    "\n",
    "'''Feed Forward Propagation'''\n",
    "    \n",
    "def single_layer_forward_propagation(A_prev, W_curr, b_curr, activation=\"relu\"):\n",
    "    Z_curr = np.dot(W_curr, A_prev) + b_curr\n",
    "    \n",
    "    if activation == \"relu\":\n",
    "        activation_func = relu\n",
    "    elif activation == \"linear\":\n",
    "        activation_func = linear\n",
    "    else:\n",
    "        raise Exception('Non-supported activation function')\n",
    "        \n",
    "    return activation_func(Z_curr), Z_curr\n",
    "\n",
    "def full_forward_propagation(X, params_values, nn_architecture):\n",
    "    memory = {}\n",
    "    A_curr = X\n",
    "    \n",
    "    for idx, layer in enumerate(nn_architecture):\n",
    "        layer_idx = idx + 1\n",
    "        A_prev = A_curr\n",
    "        \n",
    "        activ_function_curr = layer[\"activation\"]\n",
    "        W_curr = params_values[\"W\" + str(layer_idx)]\n",
    "        \n",
    "        b_curr = params_values[\"b\" + str(layer_idx)]\n",
    "        A_curr, Z_curr = single_layer_forward_propagation(A_prev, W_curr, b_curr, activ_function_curr)\n",
    "        \n",
    "        memory[\"A\" + str(idx)] = A_prev\n",
    "        memory[\"Z\" + str(layer_idx)] = Z_curr\n",
    "       \n",
    "    return A_curr, memory\n",
    "\n",
    "''' Backward Propagation '''\n",
    "\n",
    "def single_layer_backward_propagation(dA_curr, W_curr, b_curr, Z_curr, A_prev, activation=\"relu\"):\n",
    "    m = A_prev.shape[1]               #m is for mini-batch or batch gradient descent\n",
    "    \n",
    "    if activation == \"relu\":\n",
    "        backward_activation_func = relu_backward\n",
    "    elif activation == \"linear\":\n",
    "        backward_activation_func = linear_backward\n",
    "    else:\n",
    "        raise Exception('Non-supported activation function')\n",
    "    \n",
    "    dZ_curr = backward_activation_func(dA_curr, Z_curr)\n",
    "    dW_curr = np.dot(dZ_curr, A_prev.T) / m\n",
    "    db_curr = np.sum(dZ_curr, axis=1, keepdims=True) / m\n",
    "    dA_prev = np.dot(W_curr.T, dZ_curr)\n",
    "\n",
    "    return dA_prev, dW_curr, db_curr\n",
    "\n",
    "def full_backward_propagation(Y_hat, Y, memory, params_values, nn_architecture):\n",
    "    grads_values = {}\n",
    "    \n",
    "    dA_prev = 2*(Y_hat - Y)\n",
    "    \n",
    "    for layer_idx_prev, layer in reversed(list(enumerate(nn_architecture))):\n",
    "        layer_idx_curr = layer_idx_prev + 1\n",
    "        activ_function_curr = layer[\"activation\"]\n",
    "        \n",
    "        dA_curr = dA_prev\n",
    "        \n",
    "        A_prev = memory[\"A\" + str(layer_idx_prev)]\n",
    "        Z_curr = memory[\"Z\" + str(layer_idx_curr)]\n",
    "        W_curr = params_values[\"W\" + str(layer_idx_curr)]\n",
    "        b_curr = params_values[\"b\" + str(layer_idx_curr)]\n",
    "        \n",
    "        dA_prev, dW_curr, db_curr = single_layer_backward_propagation(\n",
    "            dA_curr, W_curr, b_curr, Z_curr, A_prev, activ_function_curr)\n",
    "        \n",
    "        grads_values[\"dW\" + str(layer_idx_curr)] = dW_curr\n",
    "        grads_values[\"db\" + str(layer_idx_curr)] = db_curr\n",
    "        \n",
    "    \n",
    "    return grads_values\n",
    "\n",
    "''' Get the COST/LOSS function using MSE'''\n",
    "\n",
    "def get_cost_value(predictions,targets):\n",
    "    # Retrieving number of samples in dataset\n",
    "    samples_num = len(predictions)\n",
    "    # Summing square differences between predicted and expected values\n",
    "    accumulated_error = 0.0\n",
    "    for prediction, target in zip(predictions, targets):\n",
    "        accumulated_error += (prediction - target)**2\n",
    "        \n",
    "    # Calculating mean \n",
    "    mse_error = (1.0 / (samples_num)) * accumulated_error\n",
    "    \n",
    "    return mse_error\n",
    "\n",
    "''' Update the parameters '''\n",
    "\n",
    "def update(params_values, grads_values, nn_architecture, learning_rate):\n",
    "    for layer_idx, layer in enumerate(nn_architecture):\n",
    "        params_values[\"W\" + str(layer_idx+1)] -= learning_rate * grads_values[\"dW\" + str(layer_idx+1)]        \n",
    "        params_values[\"b\" + str(layer_idx+1)] -= learning_rate * grads_values[\"db\" + str(layer_idx+1)]\n",
    "\n",
    "    return params_values;\n",
    "\n",
    "''' Train the network'''\n",
    "def train(X, Y, nn_architecture, epochs, learning_rate):\n",
    "    params_values = init_layers(nn_architecture, 1)\n",
    "    cost_history = []\n",
    "    \n",
    "    for i in range(epochs):\n",
    "        for j in range(X.shape[1]):\n",
    "            Y_hat, cashe = full_forward_propagation(np.array([X[0][j]])[np.newaxis,:], params_values, nn_architecture)\n",
    "            cost = get_cost_value(Y_hat, np.array([Y[0][j]])[np.newaxis,:])\n",
    "            cost_history.append(cost)\n",
    "        \n",
    "            grads_values = full_backward_propagation(Y_hat, np.array([Y[0][j]])[np.newaxis,:], cashe, params_values, nn_architecture)\n",
    "        \n",
    "            params_values = update(params_values, grads_values, nn_architecture, learning_rate)\n",
    "        print(\"Epoch:\"+str(i+1)+\" Cost:\"+str(np.mean(np.array(cost_history))))\n",
    "        \n",
    "    return params_values, cost_history\n",
    "\n",
    "''' Test the network: Similar to Train except no updating of parameters and SGD'''\n",
    "def test(X, Y, nn_architecture,params_values):\n",
    "    cost_history = []\n",
    "    Y_hat_history = np.zeros((Y.shape[1]))\n",
    "    for j in range(X.shape[1]):\n",
    "        Y_hat, cashe = full_forward_propagation(np.array([X[0][j]])[np.newaxis,:], params_values, nn_architecture)\n",
    "        Y_hat_history[j] = Y_hat\n",
    "        cost = get_cost_value(Y_hat, np.array([Y[0][j]])[np.newaxis,:])\n",
    "        cost_history.append(cost)\n",
    "\n",
    "    return np.mean(np.array(cost_history)),Y_hat_history\n",
    "\n"
   ]
  },
  {
   "cell_type": "markdown",
   "metadata": {},
   "source": [
    "# Train the network\n",
    "## Specification:\n",
    "<ol> \n",
    "     <li> Batch size = 1 (Stochastic Gradient Descent instead of Batch Gradient Descent)\n",
    "     <li> Learning Rate = 0.1\n",
    "     <li> Epoch = 20\n",
    "         \n",
    "</ol>\n",
    "\n",
    "### As seen from the cost, there seems to be a significant drop starting the 9th epoch. (when using 10,000 samples as \"data_samples\" with a mean of 0 and standard deviation of 1 as the user input.\n",
    "\n",
    "### The data shown below is run using \"data_samples\" equal to a million. It takes around 2 minutes to run an epoch, so it would take more or less 30-40 minutes to run 20 epoch. \n",
    "\n",
    "## Reduce \"data_samples\" with care!"
   ]
  },
  {
   "cell_type": "code",
   "execution_count": 5,
   "metadata": {},
   "outputs": [
    {
     "name": "stdout",
     "output_type": "stream",
     "text": [
      "Epoch:1 Cost:0.004910105456846417\n",
      "Epoch:2 Cost:0.0024822642353292852\n",
      "Epoch:3 Cost:0.0016711114245377325\n",
      "Epoch:4 Cost:0.0012649400002590536\n",
      "Epoch:5 Cost:0.0010209500446199174\n",
      "Epoch:6 Cost:0.0008581196308928621\n",
      "Epoch:7 Cost:0.0007417119227304737\n",
      "Epoch:8 Cost:0.0006543428310829534\n",
      "Epoch:9 Cost:0.0005863447601377331\n",
      "Epoch:10 Cost:0.0005319142005294947\n",
      "Epoch:11 Cost:0.0004873559728655747\n",
      "Epoch:12 Cost:0.00045020512644467923\n",
      "Epoch:13 Cost:0.00041875466672294055\n",
      "Epoch:14 Cost:0.00039178489255274954\n",
      "Epoch:15 Cost:0.00036840088058726447\n",
      "Epoch:16 Cost:0.0003479312829536482\n",
      "Epoch:17 Cost:0.0003298624801155808\n",
      "Epoch:18 Cost:0.00031379497987906146\n",
      "Epoch:19 Cost:0.0002994132175592414\n",
      "Epoch:20 Cost:0.00028646471369497676\n"
     ]
    }
   ],
   "source": [
    "params_values, cost_history = train(train_dataset[np.newaxis,:],train_truth[np.newaxis,:],nn_architecture,20,0.1)\n"
   ]
  },
  {
   "cell_type": "markdown",
   "metadata": {},
   "source": [
    "# Test the Network\n",
    "\n",
    "<ol> \n",
    "    <li> Test the network (don't use gradient descent as seen from the function above)\n",
    "    <li> Plot for sanity check compared with the ground truth\n",
    "</ol>"
   ]
  },
  {
   "cell_type": "code",
   "execution_count": 6,
   "metadata": {},
   "outputs": [
    {
     "name": "stdout",
     "output_type": "stream",
     "text": [
      "Test Dataset Cost: 3.3128334098201184e-05\n",
      "Test Dataset Size: (100000,)\n"
     ]
    },
    {
     "data": {
      "image/png": "[encoded data removed]",
      "text/plain": [
       "<Figure size 432x288 with 1 Axes>"
      ]
     },
     "metadata": {
      "needs_background": "light"
     },
     "output_type": "display_data"
    }
   ],
   "source": [
    "cost, Y_hat = test(test_dataset[np.newaxis,:],test_truth[np.newaxis,:],nn_architecture,params_values)\n",
    "\n",
    "''' Sanity Check'''\n",
    "print(\"Test Dataset Cost: \"+str(cost))\n",
    "print(\"Test Dataset Size: \"+str(test_dataset.shape))\n",
    "plt.figure()\n",
    "plt.plot(test_dataset,Y_hat,'r.',label=\"Prediction\")\n",
    "plt.plot(test_dataset,test_truth,'b.',label=\"Ground Truth\")\n",
    "plt.title(\"Dataset:\"+str(i)+' bins')\n",
    "\n",
    "plt.legend()\n",
    "plt.show()"
   ]
  },
  {
   "cell_type": "code",
   "execution_count": null,
   "metadata": {},
   "outputs": [],
   "source": []
  }
 ],
 "metadata": {
  "kernelspec": {
   "display_name": "Python 3",
   "language": "python",
   "name": "python3"
  },
  "language_info": {
   "codemirror_mode": {
    "name": "ipython",
    "version": 3
   },
   "file_extension": ".py",
   "mimetype": "text/x-python",
   "name": "python",
   "nbconvert_exporter": "python",
   "pygments_lexer": "ipython3",
   "version": "3.8.2"
  }
 },
 "nbformat": 4,
 "nbformat_minor": 4
}
